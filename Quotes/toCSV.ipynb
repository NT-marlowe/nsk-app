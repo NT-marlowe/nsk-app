{
 "cells": [
  {
   "cell_type": "code",
   "execution_count": 2,
   "metadata": {},
   "outputs": [],
   "source": [
    "import pandas as pd"
   ]
  },
  {
   "cell_type": "code",
   "execution_count": 20,
   "metadata": {},
   "outputs": [
    {
     "name": "stdout",
     "output_type": "stream",
     "text": [
      "        0                                                  1  \\\n",
      "0   index                                              quote   \n",
      "1       0  “Success is no accident. It is hard work, pers...   \n",
      "2       1  “There are no secrets to success. It is the re...   \n",
      "3       2  “People always say that I didn’t give up my se...   \n",
      "4       3  “However difficult life may seem, there is alw...   \n",
      "5       4  “Striving for success without hard work is lik...   \n",
      "6       5  “Success is the sum of small efforts, repeated...   \n",
      "7       6  “Success isn’t overnight. It’s when every day ...   \n",
      "8       7  “The secret of success is to do the common thi...   \n",
      "9       8       “Success doesn’t come to you, you go to it.”   \n",
      "10      9  “Recipe for success: Study while others are sl...   \n",
      "11     10  “Success is the progressive realization of a w...   \n",
      "12     11   “Power’s not given to you. You have to take it.”   \n",
      "13     12  “You may encounter many defeats but you must n...   \n",
      "14     13  “Failure is the opportunity to begin again mor...   \n",
      "15     14  “Failure doesn’t mean the game is over, it mea...   \n",
      "16     15  “And why do we fall, Bruce? So we can learn to...   \n",
      "17     16      “If you fell down yesterday, stand up today.”   \n",
      "18     17  “Many of life’s failures are people who did no...   \n",
      "19     18  “One of the most common causes of failure is q...   \n",
      "20     19  “Success consists of going from failure to fai...   \n",
      "21     20  “I’ve failed over and over and over again in m...   \n",
      "22     21  “The day you take complete responsibility for ...   \n",
      "23     22  “Nothing is impossible. The word itself says ‘...   \n",
      "24     23  “You cannot swim for new horizons until you ha...   \n",
      "25     24  “Do the best you can until you know better. Th...   \n",
      "26     25  “Don’t say you don’t have enough time. You hav...   \n",
      "27     26  “There are two kinds of people in this world: ...   \n",
      "28     27  “When we are no longer able to change a situat...   \n",
      "29     28  “Make sure your own worst enemy doesn’t live b...   \n",
      "30     29  “Don’t wish it were easier; wish you were bett...   \n",
      "31     30                             “There are no limits!”   \n",
      "32     31  “The only place where success comes before wor...   \n",
      "33     32  “I’m not telling you it is going to be easy — ...   \n",
      "34     33  “I find that the harder I work, the more luck ...   \n",
      "35     34  “If people only knew how hard I’ve worked to g...   \n",
      "36     35       “All happiness depends on courage and work.”   \n",
      "37     36  “There are no shortcuts to any place worth goi...   \n",
      "38     37  “Good things come to people who wait, but bett...   \n",
      "39     38  “Successful people are not gifted. They just w...   \n",
      "40     39            “There is no substitute for hard work.”   \n",
      "41     40     “There are no traffic jams on the extra mile.”   \n",
      "\n",
      "                                                    2  \n",
      "0                                         description  \n",
      "1                     Pelé, Brazillian pro footballer  \n",
      "2   General Colin Powell, former US Secretary of S...  \n",
      "3                                          Rosa Parks  \n",
      "4                                     Stephen Hawking  \n",
      "5                      David Bly, American politician  \n",
      "6                    Robert Collier, self-help author  \n",
      "7       Dwayne Johnson, actor and former pro-wrestler  \n",
      "8   John D. Rockefeller, widely considered the ric...  \n",
      "9                    Marva Collins, American educator  \n",
      "10               William A. Ward, motivational writer  \n",
      "11                           Earl Nightingale, author  \n",
      "12         Beyoncé, 100 million record selling artist  \n",
      "13  Maya Angelou, American civil rights activist a...  \n",
      "14  Henry Ford, industrialist founder of the Ford ...  \n",
      "15  Len Schlesinger, Harvard Business School profe...  \n",
      "16     Thomas Wayne, Batman’s Dad, in ‘Batman Begins’  \n",
      "17       H.G. Wells, English writer and sci-fi author  \n",
      "18  Thomas Edison, businessman and inventor of the...  \n",
      "19                    Napoleon Hill, self-help author  \n",
      "20  Winston Churchill, former Prime Minister of th...  \n",
      "21  Michael Jordan, former pro basketball player a...  \n",
      "22  O.J. Simpson, former American football running...  \n",
      "23           Audrey Hepburn, actress and humanitarian  \n",
      "24  William Faulkner, writer and Nobel Prize laureate  \n",
      "25  Maya Angelou, American civil rights activist a...  \n",
      "26                       H. Jackson Brown Jr., author  \n",
      "27         John Maxwell, author and leadership expert  \n",
      "28  Viktor Frankl, neurologist, philosopher and Ho...  \n",
      "29                             Laird Hamilton, surfer  \n",
      "30    Jim Rohn, entrepreneur and motivational speaker  \n",
      "31  The quote on the back of the flapjacks in our ...  \n",
      "32      Vidal Sassoon, hairstylist and philanthropist  \n",
      "33                Art Williams, insurance billionaire  \n",
      "34                 Thomas Jefferson, 3rd US president  \n",
      "35  Michelangelo, master sculpture, painter, archi...  \n",
      "36                    Honore de Balzac, French author  \n",
      "37                    Beverly Sills, operatic soprano  \n",
      "38                                            Unknown  \n",
      "39                                            Unknown  \n",
      "40  Thomas Edison, businessman and inventor of the...  \n",
      "41  Zig Ziglar, ace salesman and motivational speaker  \n"
     ]
    }
   ],
   "source": [
    "with open(\"quotes_english.txt\") as f:\n",
    "    data=[[\"index\", \"quote\", \"description\"]]\n",
    "    lines=f.readlines()\n",
    "    for i in range(len(lines)):\n",
    "        line=lines[i][:len(lines[i])-1]\n",
    "        line=line.split(sep=\" ― \")\n",
    "        data.append([i, *line])\n",
    "    df=pd.DataFrame(data)\n",
    "    print(df)\n",
    "    df.to_csv(\"quotes.csv\", header=False, index=False)"
   ]
  },
  {
   "cell_type": "code",
   "execution_count": null,
   "metadata": {},
   "outputs": [],
   "source": []
  }
 ],
 "metadata": {
  "interpreter": {
   "hash": "4e017dfdc587fe314f84ff18551ea163544a3baf9c3c69048984bfc32d567bef"
  },
  "kernelspec": {
   "display_name": "Python 3.9.7 ('base')",
   "language": "python",
   "name": "python3"
  },
  "language_info": {
   "codemirror_mode": {
    "name": "ipython",
    "version": 3
   },
   "file_extension": ".py",
   "mimetype": "text/x-python",
   "name": "python",
   "nbconvert_exporter": "python",
   "pygments_lexer": "ipython3",
   "version": "3.9.7"
  },
  "orig_nbformat": 4
 },
 "nbformat": 4,
 "nbformat_minor": 2
}
