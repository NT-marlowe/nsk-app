{
 "cells": [
  {
   "cell_type": "code",
   "execution_count": 1,
   "metadata": {},
   "outputs": [],
   "source": [
    "import requests"
   ]
  },
  {
   "cell_type": "code",
   "execution_count": 22,
   "metadata": {},
   "outputs": [],
   "source": [
    "from bs4 import BeautifulSoup\n",
    "\n",
    "#response = requests.get('https://meigen.club/%E4%B8%96%E7%95%8C%E3%81%AE%E5%8B%89%E5%BC%B7%E5%90%8D%E8%A8%80/')\n",
    "response = requests.get('https://examstudyexpert.com/study-motivation-quotes/')\n",
    "soup = BeautifulSoup(response.text, 'html.parser')\n",
    "response.close()\n",
    "title = soup.find('title').get_text()\n",
    "# print(title)\n",
    "# print(soup)"
   ]
  },
  {
   "cell_type": "code",
   "execution_count": 26,
   "metadata": {},
   "outputs": [
    {
     "name": "stdout",
     "output_type": "stream",
     "text": [
      "“However difficult life may seem, there is always something you can do and succeed at.” ― Stephen Hawking\n"
     ]
    }
   ],
   "source": [
    "quotes = soup.find_all('blockquote')\n",
    "# print(quotes[3].get_text())"
   ]
  },
  {
   "cell_type": "code",
   "execution_count": 29,
   "metadata": {},
   "outputs": [],
   "source": [
    "with open('quotes_english.txt', mode='w') as f:\n",
    "  for item in quotes:\n",
    "    f.write(item.get_text())\n",
    "    f.write('\\n')"
   ]
  },
  {
   "cell_type": "code",
   "execution_count": null,
   "metadata": {},
   "outputs": [],
   "source": []
  }
 ],
 "metadata": {
  "interpreter": {
   "hash": "43b247220968cabd2c6ae1538ab48854871652427c1cea4f59d4723850407cce"
  },
  "kernelspec": {
   "display_name": "Python 3.8.12 64-bit ('mlagents': conda)",
   "language": "python",
   "name": "python3"
  },
  "language_info": {
   "codemirror_mode": {
    "name": "ipython",
    "version": 3
   },
   "file_extension": ".py",
   "mimetype": "text/x-python",
   "name": "python",
   "nbconvert_exporter": "python",
   "pygments_lexer": "ipython3",
   "version": "3.8.12"
  },
  "orig_nbformat": 4
 },
 "nbformat": 4,
 "nbformat_minor": 2
}
